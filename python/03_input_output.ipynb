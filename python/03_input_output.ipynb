{
 "cells": [
  {
   "cell_type": "markdown",
   "metadata": {},
   "source": [
    "##  SWEA 문제 풀이를 위한 입/출력 받기\n",
    "\n",
    "### (1) 입력"
   ]
  },
  {
   "cell_type": "code",
   "execution_count": null,
   "metadata": {},
   "outputs": [],
   "source": [
    "# 입력 받기: input의 자료형은 항상 str\n",
    "N = input()\n",
    "\n",
    "# 1개의 숫자 입력 받기\n",
    "N = int(input())\n",
    "\n",
    "# 2개의 숫자\n",
    "# 8 3 => '8 3' => ['8', ' ', '3']\n",
    "N = int(input())\n",
    "\n",
    "print(N)"
   ]
  },
  {
   "cell_type": "code",
   "execution_count": null,
   "metadata": {},
   "outputs": [],
   "source": [
    "# split을 통한 방식\n",
    "N = input().split(' ')\n",
    "A, B = N\n",
    "print(A+B)"
   ]
  },
  {
   "cell_type": "code",
   "execution_count": null,
   "metadata": {},
   "outputs": [],
   "source": [
    "# map() 방식\n",
    "# arr = ['1','2','3','4']\n",
    "# arr.map(num => Number(num))\n",
    "N = input().split(' ')\n",
    "# ['8', '3']\n",
    "numbers = list(map(int, N))\n",
    "# 변수 a, b <= [8, 3]\n",
    "a, b = numbers\n",
    "print(a+b)"
   ]
  },
  {
   "cell_type": "code",
   "execution_count": null,
   "metadata": {},
   "outputs": [],
   "source": [
    "# input 2개 이상의 숫자로 받는 공식\n",
    "# '8 3'\n",
    "a, b = list(map(int, input().split()))\n",
    "\n",
    "# '1 2 3 4 5'\n",
    "a, b, c, d, e = list(map(int, input().split()))"
   ]
  },
  {
   "cell_type": "markdown",
   "metadata": {},
   "source": [
    "### (2) 출력"
   ]
  },
  {
   "cell_type": "code",
   "execution_count": null,
   "metadata": {},
   "outputs": [],
   "source": [
    "# 줄바꿈 없이 print()\n",
    "# 기본값 print('#', end='\\n')\n",
    "print('#', end='')"
   ]
  }
 ],
 "metadata": {
  "kernelspec": {
   "display_name": "Python 3",
   "language": "python",
   "name": "python3"
  },
  "language_info": {
   "codemirror_mode": {
    "name": "ipython",
    "version": 3
   },
   "file_extension": ".py",
   "mimetype": "text/x-python",
   "name": "python",
   "nbconvert_exporter": "python",
   "pygments_lexer": "ipython3",
   "version": "3.8.3"
  }
 },
 "nbformat": 4,
 "nbformat_minor": 4
}
