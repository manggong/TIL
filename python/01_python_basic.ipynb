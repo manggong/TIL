{
 "cells": [
  {
   "cell_type": "markdown",
   "metadata": {},
   "source": [
    "# 파이썬 기초\n",
    "\n",
    "\n",
    "### 저장\n",
    "\n",
    "- 어떻게\n",
    "- 무엇을\n",
    "- 어디에\n",
    "\n",
    "\n",
    "\n",
    "### 계산(조작)\n",
    "\n",
    "- 조건\n",
    "- 반복\n",
    "\n",
    "\n",
    "### 함수\n"
   ]
  },
  {
   "cell_type": "code",
   "execution_count": 2,
   "metadata": {},
   "outputs": [
    {
     "name": "stdout",
     "output_type": "stream",
     "text": [
      "hello\n"
     ]
    }
   ],
   "source": [
    "print(\"hello\")"
   ]
  },
  {
   "cell_type": "markdown",
   "metadata": {},
   "source": [
    "## 저장\n",
    "\n",
    "### 어떻게? (`=`)\n",
    "- `=`\n",
    "\n",
    "### 무엇을 (Data Type, 자료형)\n",
    "\n",
    "1. 숫자\n",
    "2. 글자\n",
    "3. 참/ 거짓\n",
    "\n",
    "### 자료형\n",
    "#### 1. 숫자\n",
    "- `int`, `float`\n"
   ]
  },
  {
   "cell_type": "code",
   "execution_count": 3,
   "metadata": {},
   "outputs": [
    {
     "name": "stdout",
     "output_type": "stream",
     "text": [
      "365\n"
     ]
    }
   ],
   "source": [
    "print(365)"
   ]
  },
  {
   "cell_type": "code",
   "execution_count": 4,
   "metadata": {},
   "outputs": [
    {
     "name": "stdout",
     "output_type": "stream",
     "text": [
      "2.7\n"
     ]
    }
   ],
   "source": [
    "print(2.7)"
   ]
  },
  {
   "cell_type": "markdown",
   "metadata": {},
   "source": [
    "#### 2. 글자 (문자열)\n",
    "- 문자열 `''`. `\"\"`\n"
   ]
  },
  {
   "cell_type": "markdown",
   "metadata": {},
   "source": [
    "#### 3. 참/거짓 (boolean)\n",
    "- `True`, `False`"
   ]
  },
  {
   "cell_type": "markdown",
   "metadata": {},
   "source": [
    "### 어디에(container)\n",
    "- 변수\n",
    "- 리스트 - 배열\n",
    "- 딕셔너리 - 오브젝트(key, value)\n",
    "\n",
    "#### 식별자 (identifier)\n",
    "- 변수명, 리스트명, 딕셔너리명\n",
    "\n",
    "#### 주석\n",
    "- `#` : 한줄 주석 (single-line comment)\n",
    "- `\"\"\" \"\"\"` : 여러줄 주석 (multi-line comment)"
   ]
  },
  {
   "cell_type": "code",
   "execution_count": 13,
   "metadata": {
    "scrolled": true
   },
   "outputs": [
    {
     "name": "stdout",
     "output_type": "stream",
     "text": [
      "['False', 'None', 'True', 'and', 'as', 'assert', 'async', 'await', 'break', 'class', 'continue', 'def', 'del', 'elif', 'else', 'except', 'finally', 'for', 'from', 'global', 'if', 'import', 'in', 'is', 'lambda', 'nonlocal', 'not', 'or', 'pass', 'raise', 'return', 'try', 'while', 'with', 'yield']\n"
     ]
    },
    {
     "data": {
      "text/plain": [
       "'\\n이것또한!!!\\n'"
      ]
     },
     "execution_count": 13,
     "metadata": {},
     "output_type": "execute_result"
    }
   ],
   "source": [
    "import keyword\n",
    "print(keyword.kwlist)\n",
    "\n",
    "# 변수명으로 쓰지 말아야 할 예약어들\n",
    "\n",
    "'''\n",
    "여러줄 주석\n",
    "'''\n",
    "\n",
    "\"\"\"\n",
    "이것또한!!!\n",
    "\"\"\""
   ]
  },
  {
   "cell_type": "code",
   "execution_count": 20,
   "metadata": {},
   "outputs": [
    {
     "data": {
      "text/plain": [
       "123"
      ]
     },
     "execution_count": 20,
     "metadata": {},
     "output_type": "execute_result"
    }
   ],
   "source": [
    "# 조심해야 할 변수명\n",
    "\n",
    "str(123)\n",
    "int('123')"
   ]
  },
  {
   "cell_type": "code",
   "execution_count": 21,
   "metadata": {},
   "outputs": [
    {
     "name": "stdout",
     "output_type": "stream",
     "text": [
      "hello\n"
     ]
    }
   ],
   "source": [
    "# 다이나믹 타입 변수 앞에 타입지정을 하지 않아도 알아서 잡음\n",
    "greeting = 'hello'\n",
    "print(greeting)"
   ]
  },
  {
   "cell_type": "code",
   "execution_count": 26,
   "metadata": {},
   "outputs": [
    {
     "data": {
      "text/plain": [
       "dict"
      ]
     },
     "execution_count": 26,
     "metadata": {},
     "output_type": "execute_result"
    }
   ],
   "source": [
    "type(greeting)\n",
    "type(123)\n",
    "type(3.5)\n",
    "type([])\n",
    "type({})"
   ]
  },
  {
   "cell_type": "code",
   "execution_count": 27,
   "metadata": {},
   "outputs": [
    {
     "name": "stdout",
     "output_type": "stream",
     "text": [
      "[1, 2, 3, 4, 5]\n"
     ]
    }
   ],
   "source": [
    "arr = [1, 2, 3, 4, 5]\n",
    "print(arr)"
   ]
  },
  {
   "cell_type": "markdown",
   "metadata": {},
   "source": [
    "### 배열\n",
    "- negative index\n",
    "- slice"
   ]
  },
  {
   "cell_type": "code",
   "execution_count": 30,
   "metadata": {},
   "outputs": [
    {
     "name": "stdout",
     "output_type": "stream",
     "text": [
      "5\n",
      "[2, 3]\n"
     ]
    }
   ],
   "source": [
    "arr = [1, 2, 3, 4, 5]\n",
    "\n",
    "print(arr[-1])\n",
    "\n",
    "### arr[시작인덱스: 끝인덱스 미만]\n",
    "print(arr[1:3])"
   ]
  },
  {
   "cell_type": "markdown",
   "metadata": {},
   "source": [
    "### 배열 method\n",
    "\n",
    "#### method\n",
    "- `.append()` : `.push()`\n",
    "- `.count()` :  원소의 개수를 출력\n",
    "- `.index()` : `.indexOf()`\n",
    "- `.pop()` : 마지막 요소 return\n",
    "- `.insert()` : 요소를 삽입\n",
    "- `.remove()` : 요소를 삭제"
   ]
  },
  {
   "cell_type": "code",
   "execution_count": 38,
   "metadata": {
    "scrolled": true
   },
   "outputs": [
    {
     "name": "stdout",
     "output_type": "stream",
     "text": [
      "[1, 3, 4]\n"
     ]
    }
   ],
   "source": [
    "arr = [1,2,3,4]\n",
    "\n",
    "arr.remove(2)\n",
    "\n",
    "print(arr)\n"
   ]
  },
  {
   "cell_type": "markdown",
   "metadata": {},
   "source": [
    "#### 내장함수\n",
    "- `len()`\n",
    "- `max()`\n",
    "- `min()`\n",
    "- `sorted()`\n",
    "- `reversed()` `list()`를 이용해서 형 변환 해야 함"
   ]
  },
  {
   "cell_type": "code",
   "execution_count": 42,
   "metadata": {},
   "outputs": [
    {
     "name": "stdout",
     "output_type": "stream",
     "text": [
      "4\n",
      "4\n",
      "1\n",
      "[1, 2, 3, 4]\n",
      "[4, 3, 2, 1]\n"
     ]
    }
   ],
   "source": [
    "arr = [1,2,3,4]\n",
    "\n",
    "print(len(arr))\n",
    "print(max(arr))\n",
    "print(min(arr))\n",
    "print(sorted(arr))\n",
    "print(list(reversed(arr)))"
   ]
  },
  {
   "cell_type": "markdown",
   "metadata": {},
   "source": [
    "### 조건 & 반복\n",
    "\n",
    "#### 조건\n",
    "```python\n",
    "if 조건식:\n",
    "    표현식\n",
    "```\n",
    "- 조건식의 관호 생략 가능\n",
    "- `{}`로 표현되던 표현식이 `:` 이후의 들여쓰기로 표현\n",
    "    \n"
   ]
  },
  {
   "cell_type": "code",
   "execution_count": 53,
   "metadata": {},
   "outputs": [
    {
     "name": "stdout",
     "output_type": "stream",
     "text": [
      "짝수\n",
      "좋음\n"
     ]
    }
   ],
   "source": [
    "# 홀수 판별\n",
    "n = 10 \n",
    "if n % 2 != 0:\n",
    "    print('홀수')\n",
    "else:\n",
    "    print('짝수')\n",
    "    \n",
    "dust = 30\n",
    "\n",
    "if dust > 150:\n",
    "    print('매우 나쁨')\n",
    "elif dust > 80:\n",
    "    print('나쁨')\n",
    "elif dust > 30:\n",
    "    print('보통')\n",
    "else:\n",
    "    print('좋음')"
   ]
  },
  {
   "cell_type": "markdown",
   "metadata": {},
   "source": [
    "### 반복문\n",
    "\n",
    "- `while()` : Looping 조건이 충족될때까지 계속해서 반복\n",
    "- `for()` : Iteration 자료를 순회할 때 사용"
   ]
  },
  {
   "cell_type": "code",
   "execution_count": 54,
   "metadata": {},
   "outputs": [
    {
     "name": "stdout",
     "output_type": "stream",
     "text": [
      "하이\n",
      "하이\n",
      "하이\n",
      "하이\n"
     ]
    }
   ],
   "source": [
    "n = 0\n",
    "while n<4:\n",
    "    print('하이')\n",
    "    n += 1"
   ]
  },
  {
   "cell_type": "markdown",
   "metadata": {},
   "source": [
    "```javascript\n",
    "\n",
    "for(let i=0; i<arr.length; i++){\n",
    "    console.log(arr[i])\n",
    "}\n",
    "\n",
    "for (let e of arr){\n",
    "    console.log(e)\n",
    "}\n",
    "\n",
    "arr.forEach(e => console.log(e))\n",
    "\n",
    "```"
   ]
  },
  {
   "cell_type": "code",
   "execution_count": 58,
   "metadata": {},
   "outputs": [
    {
     "name": "stdout",
     "output_type": "stream",
     "text": [
      "1\n",
      "2\n",
      "3\n",
      "4\n",
      "5\n",
      "[1, 2, 3, 4]\n",
      "0\n",
      "1\n",
      "2\n",
      "3\n",
      "4\n"
     ]
    }
   ],
   "source": [
    "\"\"\"\n",
    "for (let e of arr){\n",
    "    console.log(e)\n",
    "}\n",
    "\"\"\"\n",
    "arr = [1,2,3,4,5]\n",
    "\n",
    "for e in arr:\n",
    "    print(e)\n",
    "    \n",
    "# range(시작, 끝)\n",
    "print(list(range(1,5)))\n",
    "\n",
    "\"\"\"\n",
    "for(let i=0; i<arr.length; i++){\n",
    "    console.log(arr[i])\n",
    "}\n",
    "\n",
    "\"\"\"\n",
    "\n",
    "for i in range(len(arr)):\n",
    "    print(i)"
   ]
  },
  {
   "cell_type": "code",
   "execution_count": 1,
   "metadata": {},
   "outputs": [
    {
     "data": {
      "text/plain": [
       "False"
      ]
     },
     "execution_count": 1,
     "metadata": {},
     "output_type": "execute_result"
    }
   ],
   "source": [
    "bool(0)"
   ]
  },
  {
   "cell_type": "markdown",
   "metadata": {},
   "source": [
    "#### Python 조건 단축문\n",
    "\n",
    "- `값` if `조건` else `아닐때의 값`"
   ]
  },
  {
   "cell_type": "code",
   "execution_count": 6,
   "metadata": {},
   "outputs": [
    {
     "data": {
      "text/plain": [
       "10"
      ]
     },
     "execution_count": 6,
     "metadata": {},
     "output_type": "execute_result"
    }
   ],
   "source": [
    "sum([1,2,3,4])\n",
    "\n",
    "# sum(순서가있으며, 순회가 가능한 자료구조)"
   ]
  }
 ],
 "metadata": {
  "kernelspec": {
   "display_name": "Python 3",
   "language": "python",
   "name": "python3"
  },
  "language_info": {
   "codemirror_mode": {
    "name": "ipython",
    "version": 3
   },
   "file_extension": ".py",
   "mimetype": "text/x-python",
   "name": "python",
   "nbconvert_exporter": "python",
   "pygments_lexer": "ipython3",
   "version": "3.8.3"
  }
 },
 "nbformat": 4,
 "nbformat_minor": 4
}
