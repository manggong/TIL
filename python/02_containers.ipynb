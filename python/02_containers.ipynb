{
 "cells": [
  {
   "cell_type": "markdown",
   "metadata": {},
   "source": [
    "# Containers\n",
    "\n",
    "## Container\n",
    "\n",
    "### (1) List (배열)\n",
    "- 순서가 있는 데이터\n",
    "\n",
    "### (2) Dictionary (객체)\n",
    "- `Key:Value` 구분하는 데이터\n",
    "\n",
    "### (3) Set\n",
    "- 순서가 없고, 중복값을 허용하지 않는 데이터"
   ]
  },
  {
   "cell_type": "markdown",
   "metadata": {},
   "source": [
    "## (1) List(배열)\n",
    "\n",
    "### 1. List Comprehension\n",
    "- 입력 : 순회, 조건을 적용한 **나열된 자료**(list, range, tuple)\n",
    "- 출력 : List를 생성\n"
   ]
  },
  {
   "cell_type": "code",
   "execution_count": 1,
   "metadata": {},
   "outputs": [
    {
     "name": "stdout",
     "output_type": "stream",
     "text": [
      "[2, 4, 6, 8, 10]\n",
      "[2, 4, 6, 8, 10]\n",
      "30\n"
     ]
    }
   ],
   "source": [
    "# 1부터 10까지 짝수들의 List인 Evens를 만드시오.\n",
    "\n",
    "evens = []\n",
    "\n",
    "for i in range(1,11):\n",
    "    if i%2==0:\n",
    "        evens.append(i)\n",
    "print(evens)\n",
    "\n",
    "evens_comp = [i for i in range(1,11) if not i % 2]\n",
    "print(evens_comp)\n",
    "# 반복과 조건문을 이용하면서 결과가 LIst인 경우\n",
    "\n",
    "# 1부터 10까지 짝수들의 합을 구하시오.\n",
    "\n",
    "hap = sum([i for i in range(1,11) if not i % 2])\n",
    "print(hap)\n"
   ]
  }
 ],
 "metadata": {
  "kernelspec": {
   "display_name": "Python 3",
   "language": "python",
   "name": "python3"
  },
  "language_info": {
   "codemirror_mode": {
    "name": "ipython",
    "version": 3
   },
   "file_extension": ".py",
   "mimetype": "text/x-python",
   "name": "python",
   "nbconvert_exporter": "python",
   "pygments_lexer": "ipython3",
   "version": "3.8.3"
  }
 },
 "nbformat": 4,
 "nbformat_minor": 4
}
